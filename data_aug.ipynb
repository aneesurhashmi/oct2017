{
 "cells": [
  {
   "cell_type": "code",
   "execution_count": 17,
   "metadata": {},
   "outputs": [],
   "source": [
    "import torchvision.transforms.functional as tr\n",
    "from PIL import Image\n",
    "import matplotlib.pyplot as plt\n",
    "from os import mkdir, path, getcwd, walk, listdir\n",
    "from tqdm import tqdm\n",
    "import shutil\n"
   ]
  },
  {
   "cell_type": "markdown",
   "metadata": {},
   "source": [
    "## Copy the original dataset"
   ]
  },
  {
   "cell_type": "code",
   "execution_count": 32,
   "metadata": {},
   "outputs": [
    {
     "name": "stdout",
     "output_type": "stream",
     "text": [
      "11340\n"
     ]
    },
    {
     "name": "stderr",
     "output_type": "stream",
     "text": [
      "100%|██████████| 11340/11340 [01:14<00:00, 151.23it/s]\n"
     ]
    },
    {
     "name": "stdout",
     "output_type": "stream",
     "text": [
      "26307\n"
     ]
    },
    {
     "name": "stderr",
     "output_type": "stream",
     "text": [
      "100%|██████████| 26307/26307 [08:25<00:00, 52.07it/s]\n"
     ]
    },
    {
     "name": "stdout",
     "output_type": "stream",
     "text": [
      "37197\n"
     ]
    },
    {
     "name": "stderr",
     "output_type": "stream",
     "text": [
      "100%|██████████| 37197/37197 [14:09<00:00, 43.80it/s]\n"
     ]
    },
    {
     "name": "stdout",
     "output_type": "stream",
     "text": [
      "8608\n"
     ]
    },
    {
     "name": "stderr",
     "output_type": "stream",
     "text": [
      "100%|██████████| 8608/8608 [00:15<00:00, 548.59it/s]\n"
     ]
    }
   ],
   "source": [
    "SOURCE_DIR = \"../original_data/train\"\n",
    "TARGET_DIR = \"../aug_data_new/train\"\n",
    "\n",
    "print(\"Copying original dataset\")\n",
    "\n",
    "for i in ['DME', 'NORMAL', 'CNV', 'DRUSEN']:\n",
    "    for root, dirs, files in walk(f'{SOURCE_DIR}/{i}', topdown=False):\n",
    "        print(len(files))\n",
    "        for file_name in tqdm(files):\n",
    "            # continue\n",
    "            # print(f'{SOURCE_DIR}/{i}/{file_name}')\n",
    "            shutil.copy(f'{SOURCE_DIR}/{i}/{file_name}', f'{TARGET_DIR}/{i}/{file_name}')\n",
    "\n"
   ]
  },
  {
   "cell_type": "code",
   "execution_count": 58,
   "metadata": {},
   "outputs": [],
   "source": [
    "# for root, dirs, files in walk(SOURCE_DIR, topdown=False):\n",
    "#     print(root, len(files))"
   ]
  },
  {
   "cell_type": "markdown",
   "metadata": {},
   "source": [
    "## Apply Augmentation\n",
    "- 10 Degrees anti-clockwise rotation\n",
    "- Horizontal flipping\n"
   ]
  },
  {
   "cell_type": "code",
   "execution_count": 7,
   "metadata": {},
   "outputs": [
    {
     "name": "stdout",
     "output_type": "stream",
     "text": [
      "11340\n"
     ]
    },
    {
     "name": "stderr",
     "output_type": "stream",
     "text": [
      "100%|██████████| 7700/7700 [04:37<00:00, 27.78it/s]\n"
     ]
    },
    {
     "name": "stdout",
     "output_type": "stream",
     "text": [
      "26307\n"
     ]
    },
    {
     "name": "stderr",
     "output_type": "stream",
     "text": [
      "100%|██████████| 2700/2700 [01:42<00:00, 26.42it/s]\n"
     ]
    },
    {
     "name": "stdout",
     "output_type": "stream",
     "text": [
      "37197\n",
      "8608\n"
     ]
    },
    {
     "name": "stderr",
     "output_type": "stream",
     "text": [
      "100%|██████████| 8608/8608 [05:18<00:00, 27.00it/s]"
     ]
    },
    {
     "name": "stdout",
     "output_type": "stream",
     "text": [
      "0\n"
     ]
    },
    {
     "name": "stderr",
     "output_type": "stream",
     "text": [
      "\n"
     ]
    }
   ],
   "source": [
    "SOURCE_DIR = \"../original_data/train\"\n",
    "TARGET_DIR = \"../aug_data_new/train\"\n",
    "angle = 10\n",
    "\n",
    "print(\"Applying Augmentation... \")\n",
    "\n",
    "for root, dirs, files in walk(SOURCE_DIR, topdown=False):\n",
    "    # print(dirs)\n",
    "    print(len(files))\n",
    "    if len(files) == 8608:\n",
    "        # image.save(f\"{get_subdirectory('1')}/ex.jpg\")\n",
    "\n",
    "        for file_name in tqdm(files):\n",
    "            # flip the image\n",
    "            img = Image.open(f'{SOURCE_DIR}/DRUSEN/{file_name}')\n",
    "            hf_img = tr.hflip(img)\n",
    "            hf_img.save(f'{TARGET_DIR}/DRUSEN/flip_{file_name}')\n",
    "            # ratation\n",
    "            rot_img = tr.rotate(img, angle)\n",
    "            rot_img.save(f'{TARGET_DIR}/DRUSEN/rot_{file_name}')\n",
    "            # flip rotated img\n",
    "            hf_rot_img = tr.hflip(rot_img)\n",
    "            hf_rot_img.save(f'{TARGET_DIR}/DRUSEN/rot_flip_{file_name}')\n",
    "\n",
    "            # rot_img.save(f\"{get_subdirectory(f'{TARGET_DIR}/DRUSEN')}/rot_{file_name}\")\n",
    "            # break\n",
    "            # image.save()\n",
    "    elif len(files) == 11340:\n",
    "        for file_name in tqdm(files[:7700]):\n",
    "            # flip the image\n",
    "            img = Image.open(f'{SOURCE_DIR}/DME/{file_name}')\n",
    "            hf_img = tr.hflip(img)\n",
    "            hf_img.save(f'{TARGET_DIR}/DME/flip_{file_name}')\n",
    "            # ratation\n",
    "            rot_img = tr.rotate(img, angle)\n",
    "            rot_img.save(f'{TARGET_DIR}/DME/rot_{file_name}')\n",
    "            # flip rotated img\n",
    "            hf_rot_img = tr.hflip(rot_img)\n",
    "            hf_rot_img.save(f'{TARGET_DIR}/DME/rot_flip_{file_name}')\n",
    "            # break\n",
    "    \n",
    "    elif len(files) == 26307:\n",
    "        for file_name in tqdm(files[:2700]):\n",
    "            # flip the image\n",
    "            img = Image.open(f'{SOURCE_DIR}/NORMAL/{file_name}')\n",
    "            hf_img = tr.hflip(img)\n",
    "            hf_img.save(f'{TARGET_DIR}/NORMAL/flip_{file_name}')\n",
    "            # ratation\n",
    "            rot_img = tr.rotate(img, angle)\n",
    "            rot_img.save(f'{TARGET_DIR}/NORMAL/rot_{file_name}')\n",
    "            # flip rotated img\n",
    "            hf_rot_img = tr.hflip(rot_img)\n",
    "            hf_rot_img.save(f'{TARGET_DIR}/NORMAL/rot_flip_{file_name}')\n",
    "            # break"
   ]
  }
 ],
 "metadata": {
  "kernelspec": {
   "display_name": "ml701_oct",
   "language": "python",
   "name": "ml701_oct"
  },
  "language_info": {
   "codemirror_mode": {
    "name": "ipython",
    "version": 3
   },
   "file_extension": ".py",
   "mimetype": "text/x-python",
   "name": "python",
   "nbconvert_exporter": "python",
   "pygments_lexer": "ipython3",
   "version": "3.10.4"
  },
  "orig_nbformat": 4,
  "vscode": {
   "interpreter": {
    "hash": "31f2aee4e71d21fbe5cf8b01ff0e069b9275f58929596ceb00d14d90e3e16cd6"
   }
  }
 },
 "nbformat": 4,
 "nbformat_minor": 2
}
